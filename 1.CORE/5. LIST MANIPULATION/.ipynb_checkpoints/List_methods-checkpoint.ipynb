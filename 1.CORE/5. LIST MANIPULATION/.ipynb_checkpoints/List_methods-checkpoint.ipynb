{
 "cells": [
  {
   "cell_type": "code",
   "execution_count": 4,
   "id": "37e7f1b5",
   "metadata": {},
   "outputs": [
    {
     "name": "stdout",
     "output_type": "stream",
     "text": [
      "9\n",
      "3\n",
      "3\n"
     ]
    }
   ],
   "source": [
    "n=[10,20,30,40,50,40,30,20,30]\n",
    "print(len(n))\n",
    "\n",
    "print(n.count(30))   ## returns the count/occurrence\n",
    "\n",
    "print(n.index(40))    ##retuturns 1st occurence of the index value"
   ]
  },
  {
   "cell_type": "code",
   "execution_count": 9,
   "id": "852c9c98",
   "metadata": {},
   "outputs": [
    {
     "name": "stdout",
     "output_type": "stream",
     "text": [
      "None\n",
      "[10, 20, 30, 40, 50, 40, 30, 20, 30, 55, 55, 55, 55]\n",
      "[0, 1, 2, 3, 4, 5, 6, 7, 8, 9]\n",
      "[0, 5, 10, 15, 20, 25, 30, 35, 40, 45, 50, 55, 60, 65, 70, 75, 80, 85, 90, 95, 100]\n"
     ]
    }
   ],
   "source": [
    "##Manupulating the elements of list\n",
    "#1 Append\n",
    "print(n. append(55))\n",
    "print(n)\n",
    "\n",
    "l1=[]\n",
    "for i in range(0,10):\n",
    "    l1.append(i)\n",
    "print(l1)\n",
    "\n",
    "## Add element to the list  div by 5 \n",
    "l2=[]\n",
    "for i in range(101):\n",
    "    if i%5==0:\n",
    "        l2.append(i)\n",
    "print(l2)\n"
   ]
  },
  {
   "cell_type": "code",
   "execution_count": 10,
   "id": "08da0e84",
   "metadata": {},
   "outputs": [
    {
     "name": "stdout",
     "output_type": "stream",
     "text": [
      "['Santosh', 'q', 'w', 'p', 'q', 'r', 's', 't']\n",
      "['Santosh', 'q', 'w', 'p', 'q', 'r', 's', 't', 'Ten']\n"
     ]
    }
   ],
   "source": [
    "##2 Indsert === it inserts the element at specified index position\n",
    "lst=['q','w','p','q','r','s','t']\n",
    "lst.insert(0,\"Santosh\")        ## element will push the current element to forward index position\n",
    "print(lst)\n",
    "\n",
    "lst.insert(10,\"Ten\")        ## specified index more than the max index then inserted at the last \n",
    "print(lst)\n"
   ]
  },
  {
   "cell_type": "code",
   "execution_count": 23,
   "id": "8042c457",
   "metadata": {},
   "outputs": [
    {
     "name": "stdout",
     "output_type": "stream",
     "text": [
      "['pen', 'pencil', 'rubber', 'sharpner', 'bottle', 'bag', 'goggle']\n",
      "['pen', 'pencil', 'rubber', 'sharpner', 'bottle', 'bag', 'goggle', 'b', 'i', 'c', 'y', 'c', 'l', 'e']\n",
      "[33, 23, 53, 63, 333, 444, 555]\n",
      "[33, 23, 53, 63, 333, 444, 555, [666, 777]]\n",
      "[33, 23, 53, 63, 333, 444, 555, [666, 777], 99, 88]\n",
      "[33, 23, 53, 63, 333, 444, 555, [666, 777], 99, 88, (99, 88)]\n"
     ]
    }
   ],
   "source": [
    "##3 Extend   To add itms of one list to another list\n",
    "l1=['pen','pencil','rubber','sharpner']\n",
    "l2=['bottle','bag','goggle']\n",
    "l1.extend(l2)\n",
    "print(l1)\n",
    "\n",
    "l1.extend(\"bicycle\")\n",
    "print(l1)\n",
    "\n",
    "l3=[33,23,53,63]\n",
    "l4=[333,444,555]\n",
    "l3.extend(l4)\n",
    "print(l3)\n",
    "\n",
    "l5=[666,777]\n",
    "l3.append(l5)\n",
    "print(l3)\n",
    "\n",
    "tuple=(99,88)\n",
    "l3.extend(tuple)\n",
    "print(l3)\n",
    "l3.append(tuple)\n",
    "print(l3)"
   ]
  },
  {
   "cell_type": "code",
   "execution_count": 24,
   "id": "1cc2aadd",
   "metadata": {},
   "outputs": [
    {
     "name": "stdout",
     "output_type": "stream",
     "text": [
      "[33, 23, 53, 63, 333, 444, 555, [666, 777], 88, (99, 88)]\n"
     ]
    }
   ],
   "source": [
    "##4 remove  == used to remove the specified item from the list\n",
    "l3.remove(99)\n",
    "print(l3)      ## if element present multiple times then first occurence will be removed\n",
    "\n",
    "# l3.remove(1000) ## if specified item not in list it will give value error\n",
    "\n"
   ]
  },
  {
   "cell_type": "code",
   "execution_count": 27,
   "id": "e067293e",
   "metadata": {},
   "outputs": [
    {
     "name": "stdout",
     "output_type": "stream",
     "text": [
      "t\n",
      "goggle\n"
     ]
    },
    {
     "ename": "IndexError",
     "evalue": "pop from empty list",
     "output_type": "error",
     "traceback": [
      "\u001b[1;31m---------------------------------------------------------------------------\u001b[0m",
      "\u001b[1;31mIndexError\u001b[0m                                Traceback (most recent call last)",
      "Input \u001b[1;32mIn [27]\u001b[0m, in \u001b[0;36m<cell line: 11>\u001b[1;34m()\u001b[0m\n\u001b[0;32m      8\u001b[0m \u001b[38;5;28mprint\u001b[39m(lst1\u001b[38;5;241m.\u001b[39mpop())         \n\u001b[0;32m     10\u001b[0m lst2\u001b[38;5;241m=\u001b[39m[]\n\u001b[1;32m---> 11\u001b[0m \u001b[38;5;28mprint\u001b[39m(\u001b[43mlst2\u001b[49m\u001b[38;5;241;43m.\u001b[39;49m\u001b[43mpop\u001b[49m\u001b[43m(\u001b[49m\u001b[43m)\u001b[49m)\n",
      "\u001b[1;31mIndexError\u001b[0m: pop from empty list"
     ]
    }
   ],
   "source": [
    "# POP ==removes and returns the last element of the list\n",
    "#This is only function manupulate the list and returns some element\n",
    "\n",
    "lst=['q','w','p','q','r','s','t']\n",
    "print(lst.pop())\n",
    "\n",
    "lst1=['pen', 'pencil', 'rubber', 'sharpner', 'bottle', 'bag', 'goggle']\n",
    "print(lst1.pop())         \n",
    "\n",
    "lst2=[]\n",
    "print(lst2.pop()) ## If list is empty then index error\n"
   ]
  },
  {
   "cell_type": "code",
   "execution_count": 32,
   "id": "7929f943",
   "metadata": {},
   "outputs": [
    {
     "name": "stdout",
     "output_type": "stream",
     "text": [
      "['goggle', 'bag', 'bottle', 'sharpner', 'rubber', 'pencil', 'pen']\n",
      "['bag', 'bottle', 'goggle', 'pen', 'pencil', 'rubber', 'sharpner']\n"
     ]
    },
    {
     "ename": "TypeError",
     "evalue": "'<' not supported between instances of 'int' and 'str'",
     "output_type": "error",
     "traceback": [
      "\u001b[1;31m---------------------------------------------------------------------------\u001b[0m",
      "\u001b[1;31mTypeError\u001b[0m                                 Traceback (most recent call last)",
      "Input \u001b[1;32mIn [32]\u001b[0m, in \u001b[0;36m<cell line: 15>\u001b[1;34m()\u001b[0m\n\u001b[0;32m     12\u001b[0m \u001b[38;5;28mprint\u001b[39m(lst1)\n\u001b[0;32m     14\u001b[0m lst\u001b[38;5;241m=\u001b[39m[\u001b[38;5;124m'\u001b[39m\u001b[38;5;124mq\u001b[39m\u001b[38;5;124m'\u001b[39m,\u001b[38;5;124m'\u001b[39m\u001b[38;5;124mw\u001b[39m\u001b[38;5;124m'\u001b[39m,\u001b[38;5;124m'\u001b[39m\u001b[38;5;124mp\u001b[39m\u001b[38;5;124m'\u001b[39m,\u001b[38;5;124m'\u001b[39m\u001b[38;5;124mq\u001b[39m\u001b[38;5;124m'\u001b[39m,\u001b[38;5;124m'\u001b[39m\u001b[38;5;124mr\u001b[39m\u001b[38;5;124m'\u001b[39m,\u001b[38;5;124m'\u001b[39m\u001b[38;5;124ms\u001b[39m\u001b[38;5;124m'\u001b[39m,\u001b[38;5;124m'\u001b[39m\u001b[38;5;124mt\u001b[39m\u001b[38;5;124m'\u001b[39m,\u001b[38;5;241m1\u001b[39m,\u001b[38;5;241m2\u001b[39m,\u001b[38;5;241m4\u001b[39m]\n\u001b[1;32m---> 15\u001b[0m \u001b[43mlst\u001b[49m\u001b[38;5;241;43m.\u001b[39;49m\u001b[43msort\u001b[49m\u001b[43m(\u001b[49m\u001b[43m)\u001b[49m\n\u001b[0;32m     16\u001b[0m \u001b[38;5;28mprint\u001b[39m(lst)\n",
      "\u001b[1;31mTypeError\u001b[0m: '<' not supported between instances of 'int' and 'str'"
     ]
    }
   ],
   "source": [
    "# Ordering elements of list\n",
    "\n",
    "#1 Reverse the order of list\n",
    "lst1=['pen', 'pencil', 'rubber', 'sharpner', 'bottle', 'bag', 'goggle']\n",
    "\n",
    "lst1.reverse()\n",
    "print(lst1)\n",
    "\n",
    "\n",
    "##2 SORT fun== for homogeneous elemets only(otherwise it willgives type Error)\n",
    "lst1.sort()\n",
    "print(lst1)\n",
    "\n",
    "lst=['q','w','p','q','r','s','t',1,2,4]\n",
    "lst.sort()\n",
    "print(lst)"
   ]
  },
  {
   "cell_type": "code",
   "execution_count": 37,
   "id": "3325f91e",
   "metadata": {},
   "outputs": [
    {
     "name": "stdout",
     "output_type": "stream",
     "text": [
      "2529914917696\n",
      "2529914917696\n",
      "[10, 555, 30, 40]\n",
      "[10, 555, 30, 40]\n",
      "[10, 555, 30, 888]\n",
      "[10, 555, 30, 40]\n",
      "['q', 'w', 'p', 'q', 'r', 444, 't', 1, 2, 4] ['q', 'w', 'p', 'q', 'r', 444, 't', 1, 2, 4]\n",
      "['q', 'w', 'p', 'q', 'r', 444, 't', 1, 2, 4] ['q', 'w', 'p', 'q', 333, 444, 't', 1, 2, 4]\n"
     ]
    }
   ],
   "source": [
    "# aliasing\n",
    "x=[10,20,30,40]\n",
    "y=x\n",
    "print(id(x))\n",
    "print(id(y))\n",
    "\n",
    "\n",
    "y[1]=555   # If one operator changed then it affects other ref var also??\n",
    "print(x)\n",
    "print(y)\n",
    "\n",
    "# CLOANING\n",
    "# To overcome this issse go for cloaning== Process of creating exactly duplicate and independant obj\n",
    "##1 by using slice op\n",
    "\n",
    "y=x[:]\n",
    "y[3]=888\n",
    "print(y)\n",
    "print(x)\n",
    "\n",
    "##2  By using copy function\n",
    "lst1=['q','w','p','q','r','s','t',1,2,4]\n",
    "lst2=lst1\n",
    "lst2[5]=444       ## changes will be reflected in lst1 also  affects lst1\n",
    "print(lst1,lst2)\n",
    "\n",
    "# by using copy()\n",
    "lst2=lst1.copy()\n",
    "lst2[4]=333\n",
    "print(lst1,lst2)  ## changes wont be reflected in lst1\n",
    "\n"
   ]
  },
  {
   "cell_type": "code",
   "execution_count": 43,
   "id": "ff7f6b38",
   "metadata": {},
   "outputs": [
    {
     "name": "stdout",
     "output_type": "stream",
     "text": [
      "[10, 20, 30, 40, 50, 60, 70, 80]\n",
      "[10, 20, 30, 40, 'q', 'o', 'd', 50, 60, 70, 80]\n",
      "[10, 20, 30, 40, 'q', 'o', 'd', 444]\n"
     ]
    },
    {
     "ename": "TypeError",
     "evalue": "can only concatenate list (not \"int\") to list",
     "output_type": "error",
     "traceback": [
      "\u001b[1;31m---------------------------------------------------------------------------\u001b[0m",
      "\u001b[1;31mTypeError\u001b[0m                                 Traceback (most recent call last)",
      "Input \u001b[1;32mIn [43]\u001b[0m, in \u001b[0;36m<cell line: 22>\u001b[1;34m()\u001b[0m\n\u001b[0;32m     19\u001b[0m c\u001b[38;5;241m=\u001b[39ma\u001b[38;5;241m+\u001b[39m[\u001b[38;5;241m444\u001b[39m]\n\u001b[0;32m     20\u001b[0m \u001b[38;5;28mprint\u001b[39m(c)\n\u001b[1;32m---> 22\u001b[0m d\u001b[38;5;241m=\u001b[39m\u001b[43ma\u001b[49m\u001b[38;5;241;43m+\u001b[39;49m\u001b[38;5;241;43m444\u001b[39;49m\n\u001b[0;32m     23\u001b[0m \u001b[38;5;28mprint\u001b[39m(d)\n",
      "\u001b[1;31mTypeError\u001b[0m: can only concatenate list (not \"int\") to list"
     ]
    }
   ],
   "source": [
    "## concatenation operator\n",
    "a=[10,20,30,40]\n",
    "b=[50,60,70,80]\n",
    "c=a+b\n",
    "print(c)\n",
    "\n",
    "# a=[10,20,30,40]\n",
    "# b=[50,60,70,80]\n",
    "# a.extend(b)\n",
    "# print(a)\n",
    "\n",
    "a=[10,20,30,40,'q','o','d']\n",
    "b=[50,60,70,80]\n",
    "c=a+b\n",
    "print(c)\n",
    "\n",
    "##both arguments should be list otherwise shows TypeError\n",
    "a=[10,20,30,40,'q','o','d']\n",
    "c=a+[444]\n",
    "print(c)\n",
    "\n",
    "d=a+444\n",
    "print(d)  ## eill get TYPE ERROR can only concatenate list (not \"int\") to list\n"
   ]
  },
  {
   "cell_type": "code",
   "execution_count": 45,
   "id": "45c67971",
   "metadata": {},
   "outputs": [
    {
     "name": "stdout",
     "output_type": "stream",
     "text": [
      "[10, 20, 30, 40, 50, 60, 70, 80, 10, 20, 30, 40, 50, 60, 70, 80, 10, 20, 30, 40, 50, 60, 70, 80, 10, 20, 30, 40, 50, 60, 70, 80, 10, 20, 30, 40, 50, 60, 70, 80]\n",
      "[10, 20, 30, 40, 50, 60, 70, 80, 'q', 'w', 'd', 10, 20, 30, 40, 50, 60, 70, 80, 'q', 'w', 'd', 10, 20, 30, 40, 50, 60, 70, 80, 'q', 'w', 'd', 10, 20, 30, 40, 50, 60, 70, 80, 'q', 'w', 'd', 10, 20, 30, 40, 50, 60, 70, 80, 'q', 'w', 'd']\n"
     ]
    }
   ],
   "source": [
    "##2 REPETITION OP == To repeat the elements of list specified no of times\n",
    "\n",
    "l=[10, 20, 30, 40, 50, 60, 70, 80]\n",
    "print(l*5)\n",
    "print(l*5)\n",
    "\n",
    "l=[10, 20, 30, 40, 50, 60, 70, 80,'q','w','d']\n",
    "print(l*5)"
   ]
  },
  {
   "cell_type": "code",
   "execution_count": 46,
   "id": "96f044b2",
   "metadata": {},
   "outputs": [
    {
     "name": "stdout",
     "output_type": "stream",
     "text": [
      "[]\n"
     ]
    }
   ],
   "source": [
    "## CLEAR\n",
    "l.clear()\n",
    "print(l)"
   ]
  }
 ],
 "metadata": {
  "kernelspec": {
   "display_name": "Python 3 (ipykernel)",
   "language": "python",
   "name": "python3"
  },
  "language_info": {
   "codemirror_mode": {
    "name": "ipython",
    "version": 3
   },
   "file_extension": ".py",
   "mimetype": "text/x-python",
   "name": "python",
   "nbconvert_exporter": "python",
   "pygments_lexer": "ipython3",
   "version": "3.10.6"
  }
 },
 "nbformat": 4,
 "nbformat_minor": 5
}
