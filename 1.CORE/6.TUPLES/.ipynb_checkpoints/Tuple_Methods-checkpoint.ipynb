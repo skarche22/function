{
 "cells": [
  {
   "cell_type": "code",
   "execution_count": 7,
   "id": "716ce564",
   "metadata": {},
   "outputs": [
    {
     "name": "stdout",
     "output_type": "stream",
     "text": [
      "<dict_reverseitemiterator object at 0x000002E242A86610>\n",
      "{2: 'b'}\n",
      "{2: 'b', 1: 'a'}\n"
     ]
    }
   ],
   "source": [
    "d={1:'a',2:'b'}\n",
    "b=reversed(d.items())\n",
    "print(b)\n",
    "c={}\n",
    "for k ,v in b:\n",
    "    z={k:v}\n",
    "    c.update(z)\n",
    "    print(c)\n"
   ]
  },
  {
   "cell_type": "code",
   "execution_count": 13,
   "id": "8749077c",
   "metadata": {},
   "outputs": [
    {
     "name": "stdout",
     "output_type": "stream",
     "text": [
      "1\n"
     ]
    }
   ],
   "source": [
    "s=\"hello python\"\n",
    "print(s.count(\"o\",0,5))"
   ]
  }
 ],
 "metadata": {
  "kernelspec": {
   "display_name": "Python 3 (ipykernel)",
   "language": "python",
   "name": "python3"
  },
  "language_info": {
   "codemirror_mode": {
    "name": "ipython",
    "version": 3
   },
   "file_extension": ".py",
   "mimetype": "text/x-python",
   "name": "python",
   "nbconvert_exporter": "python",
   "pygments_lexer": "ipython3",
   "version": "3.10.6"
  }
 },
 "nbformat": 4,
 "nbformat_minor": 5
}
