{
 "cells": [
  {
   "cell_type": "code",
   "execution_count": 17,
   "id": "3b1a9ec8",
   "metadata": {},
   "outputs": [
    {
     "name": "stdout",
     "output_type": "stream",
     "text": [
      "python is easy language to learn\n",
      "python is easy language to learn    \n",
      "        python is easy language to learn\n"
     ]
    }
   ],
   "source": [
    "##Str functions\n",
    "s=\"        python is easy language to learn    \"  \n",
    "print(s.strip())                                    #removes whitespaces\n",
    "s=\"        python is easy language to learn    \"\n",
    "print(s.lstrip())                                    #removes left side whitespaces\n",
    "s=\"        python is easy language to learn    \"\n",
    "print(s.rstrip())                                    #removes right side whitespaces"
   ]
  },
  {
   "cell_type": "code",
   "execution_count": 21,
   "id": "97dccaa3",
   "metadata": {},
   "outputs": [
    {
     "name": "stdout",
     "output_type": "stream",
     "text": [
      "Santosh Karche Python Fullstack Developer\n",
      "Santosh karche python fullstack developer\n"
     ]
    }
   ],
   "source": [
    "st=\"santosh karche python fullstack developer\"     ## makes all starting char of each letters capital \n",
    "print(st.title())\n",
    "st=\"santosh karche python fullstack developer\"    ## it will make CAPITAL ONLY first char of first letter\n",
    "print(st.capitalize())"
   ]
  },
  {
   "cell_type": "code",
   "execution_count": 72,
   "id": "c88285c7",
   "metadata": {},
   "outputs": [
    {
     "name": "stdout",
     "output_type": "stream",
     "text": [
      "['python', 'is', 'easy', 'language', 'to', 'learn']\n",
      "['python is easy language ', ' learn']\n",
      "['python ', ' easy language to learn']\n",
      "('python fullstack developer which is ', 'easy', ' to learn')\n"
     ]
    }
   ],
   "source": [
    "s=\"python is easy language to learn\"            ## splits the all words in given word\n",
    "print(s.split())\n",
    "s=\"python is easy language to learn\"           ## split the all words at location by remove the asked word\n",
    "print(s.split(\"to\"))\n",
    "s=\"python is easy language to learn\"\n",
    "print(s.split(\"is\"))               \n",
    "\n",
    "st=\"python fullstack developer which is easy to learn\"   #'str' object has no attribute 'lpartition\n",
    "print(st.rpartition(\"easy\"))                  ## partition at given word by keeping output will shows in tuple\n"
   ]
  },
  {
   "cell_type": "code",
   "execution_count": 3,
   "id": "df28aa47",
   "metadata": {},
   "outputs": [
    {
     "name": "stdout",
     "output_type": "stream",
     "text": [
      "python is easy language to learn\n",
      "PYTHON IS EASY LANGUAGE TO LEARN\n",
      "python is easy language to learn\n",
      "pyTHON IS EASY lANGUAGE to LEARN\n"
     ]
    }
   ],
   "source": [
    "s=\"PYthon is Easy LanguagE TO learn\"\n",
    "print(s.casefold())                       ##casefold() method returns a string where all the characters are lower case.\n",
    "\n",
    "s=\"PYthon is easy Language TO learn\"       ## converts all words into upper case\n",
    "print(s.upper())\n",
    "s=\"PYthon is easy Language TO learn\"      ## converts all letters to lower case\n",
    "print(s.lower())\n",
    "\n",
    "s=\"PYthon is easy Language TO learn\"       ## swap the all letters in opposite case\n",
    "print(s.swapcase())\n"
   ]
  },
  {
   "cell_type": "code",
   "execution_count": 6,
   "id": "4d2718ca",
   "metadata": {},
   "outputs": [
    {
     "name": "stdout",
     "output_type": "stream",
     "text": [
      "santosh karche python fullstack developer\n",
      "santuuush karche pythuuun fullstack develuuuper\n",
      "santosh karchwww python fullstack developer\n",
      "3\n",
      "1\n",
      "3\n",
      "0\n",
      "22\n",
      "24\n",
      "4\n",
      "37\n"
     ]
    }
   ],
   "source": [
    "st=\"santosh karche java fullstack developer\"\n",
    "print(st.replace(\"java\",\"python\"))\n",
    "st=\"santosh karche python fullstack developer\"\n",
    "print(st.replace(\"o\",\"uuu\"))\n",
    "st=\"santosh karche python fullstack developer\"\n",
    "print(st.replace(\"e\",\"www\",1))\n",
    "\n",
    "\n",
    "st=\"santosh karche python fullstack developer\"\n",
    "print(st.count(\"l\"))\n",
    "st=\"santosh karche python fullstack developer\"\n",
    "print(st.count(\"ll\"))\n",
    "st=\"santosh karche python fullstack developer\"\n",
    "print(st.count(\"l\",15,-1))\n",
    "st=\"santosh karche python fullstack developer\"\n",
    "print(st.count(\"l\",0,15))\n",
    "\n",
    "st=\"santosh karche python fullstack developer\"\n",
    "print(st.index(\"f\"))\n",
    "st=\"santosh karche python fullstack developer\"\n",
    "print(st.index(\"l\"))\n",
    "\n",
    "st=\"santosh karche python fullstack developer\"\n",
    "print(st.index(\"o\"))\n",
    "st=\"santosh karche python fullstack developer\"\n",
    "print(st.index(\"o\",25,-1))"
   ]
  },
  {
   "cell_type": "code",
   "execution_count": 9,
   "id": "e49200cd",
   "metadata": {},
   "outputs": [
    {
     "name": "stdout",
     "output_type": "stream",
     "text": [
      "40\n",
      "38\n",
      "45\n",
      "40\n",
      "-1\n"
     ]
    }
   ],
   "source": [
    "st=\"santosh karche python fullstack developer\"\n",
    "print(st.startswith(\"p\"))\n",
    "st=\"santosh karche python fullstack developer\"\n",
    "print(st.startswith(\"Santosh\"))\n",
    "st=\"santosh karche python fullstack developer\"\n",
    "print(st.startswith(\"santosh\"))\n",
    "st=\"santosh karche python fullstack developer\"\n",
    "print(st.startswith(\"s\"))\n",
    "\n",
    "st=\"santosh karche python fullstack developer\"\n",
    "print(st.endswith(\"r\"))\n",
    "st=\"santosh karche python fullstack developer\"\n",
    "print(st.endswith(\"d\"))\n",
    "\n",
    "st=\"santosh karche python fullstack developer\"\n",
    "print(st.endswith(\"developer\"))\n",
    "\n",
    "\n",
    "st=\"santosh karche python fullstack developer\"\n",
    "print(st.find(\"r\"))                             ##finds the first occurrence of the specified value\n",
    "st=\"santosh karche python fullstack developer\"\n",
    "print(st.find(\"full\"))\n",
    "st=\"santosh karche python fullstack developer\"\n",
    "print(st.find(\"\\l\"))                            ##returns -1 if the value is not found.\n",
    "st=\"santosh karche python fullstack developer\"\n",
    "print(st.find(\"ll\"))\n",
    "\n",
    "st=\"santosh karche python fullstack developer\"\n",
    "print(st.rfind(\"r\"))                             ## finds the last occurrence of the specified value.\n",
    "st=\"santosh karche python fullstack developer \"\n",
    "print(st.rfind(\"p\"))\n",
    "st=\"santosh karche python fullstack developer 2022\"\n",
    "print(st.rfind(\"2\"))\n",
    "st=\"python fullstack developer python easy, python developer\"\n",
    "print(st.rfind(\"python\"))\n",
    "print(st.rfind(\"good\"))                           ##returns -1 if the value is not found."
   ]
  },
  {
   "cell_type": "code",
   "execution_count": 64,
   "id": "51c3a4e2",
   "metadata": {},
   "outputs": [
    {
     "name": "stdout",
     "output_type": "stream",
     "text": [
      "False\n",
      "False\n",
      "False\n",
      "True\n",
      "True\n",
      "False\n",
      "True\n",
      "False\n",
      "True\n",
      "False\n",
      "True\n",
      "False\n"
     ]
    }
   ],
   "source": [
    "st=\"python fullstack developer\"\n",
    "print(st.isalnum())\n",
    "st=\"python fullstack developer 2022\"+ \"2023\"\n",
    "print(st.isalnum())\n",
    "\n",
    "st=\"python fullstack developer\"\n",
    "print(st.isalpha())\n",
    "st=\"python\"\n",
    "print(st.isalpha())\n",
    "st=\"2022\"\n",
    "print(st.isalnum())\n",
    "st=\"202.2\"\n",
    "print(st.isalnum())\n",
    "st=\"2022\"\n",
    "print(st.isdecimal())\n",
    "st=\"202.2\"\n",
    "print(st.isdecimal())\n",
    "st=\"2022\"\n",
    "print(st.isdigit())\n",
    "st=\"202.2\"\n",
    "print(st.isdigit())\n",
    "st=\"2022\"\n",
    "print(st.isnumeric())\n",
    "st=\"202.2\"\n",
    "print(st.isnumeric())"
   ]
  },
  {
   "cell_type": "code",
   "execution_count": 91,
   "id": "574b0da0",
   "metadata": {},
   "outputs": [
    {
     "name": "stdout",
     "output_type": "stream",
     "text": [
      "3\n",
      "fullstack@\n",
      "python@#$fullstack@#$developer python easy@#$python developer\n",
      "d&e&v&e&l&o&p&e&r\n",
      "<built-in method zfill of str object at 0x000001E7C5A661B0>\n",
      "0000python\n",
      "0python\n",
      "0000000050\n"
     ]
    }
   ],
   "source": [
    "st=\"python fullstack developer python easy, python developer\"\n",
    "print(st.count(\"python\"))\n",
    "\n",
    "st='fullstack'\n",
    "print(st.center(10,\"@\"))\n",
    "\n",
    "st=\"python\",\"fullstack\",\"developer python easy\" ,\"python developer\" \n",
    "print(\"@#$\".join(st))\n",
    "\n",
    "print(\"&\".join(\"developer\"))\n",
    "\n",
    "\n",
    "txt=\"python\"\n",
    "\n",
    "print(txt.zfill)             ## str object\n",
    "print(txt.zfill(10)) \n",
    "print(txt.zfill(7))\n",
    "\n",
    "\n",
    "t=\"50\"\n",
    "print(t.zfill(10))  \n",
    "\n"
   ]
  },
  {
   "cell_type": "code",
   "execution_count": null,
   "id": "8645d989",
   "metadata": {},
   "outputs": [],
   "source": []
  }
 ],
 "metadata": {
  "kernelspec": {
   "display_name": "Python 3 (ipykernel)",
   "language": "python",
   "name": "python3"
  },
  "language_info": {
   "codemirror_mode": {
    "name": "ipython",
    "version": 3
   },
   "file_extension": ".py",
   "mimetype": "text/x-python",
   "name": "python",
   "nbconvert_exporter": "python",
   "pygments_lexer": "ipython3",
   "version": "3.10.6"
  }
 },
 "nbformat": 4,
 "nbformat_minor": 5
}
